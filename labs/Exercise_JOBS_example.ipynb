{
  "nbformat": 4,
  "nbformat_minor": 0,
  "metadata": {
    "colab": {
      "name": "Exercise JOBS.ipynb",
      "provenance": [],
      "collapsed_sections": [],
      "include_colab_link": true
    },
    "kernelspec": {
      "name": "python3",
      "display_name": "Python 3"
    },
    "language_info": {
      "name": "python"
    }
  },
  "cells": [
    {
      "cell_type": "markdown",
      "metadata": {
        "id": "view-in-github",
        "colab_type": "text"
      },
      "source": [
        "<a href=\"https://colab.research.google.com/github/dfirm/iads_day4/blob/main/labs/Exercise_JOBS_example.ipynb\" target=\"_parent\"><img src=\"https://colab.research.google.com/assets/colab-badge.svg\" alt=\"Open In Colab\"/></a>"
      ]
    },
    {
      "cell_type": "markdown",
      "metadata": {
        "id": "aWjBdjQOWfFQ"
      },
      "source": [
        "# Causal Inference - Exercise (JOBS)\n",
        "\n",
        "This is an optional exercise for anyone going quicker throught the labs than anticipated. We leave here very little instructions to let people approach the problem however they want, though it can be tackled in a similar manner as the IHDP one.\n",
        "\n",
        "This dataset, proposed by [A. Smith and E. Todd (2005)](https://ideas.repec.org/a/eee/econom/v125y2005i1-2p305-353.html), is a combination of the experiment done by [LaLonde (1986)](https://www.jstor.org/stable/1806062) as part of the National Supported Work Program (NSWP) and observational data from the Panel Study of Income Dynamics (PSID) [(Dehejia and Wahba 2002)](https://ideas.repec.org/a/tpr/restat/v84y2002i1p151-161.html). Overall, the data captures people’s basic characteristics, whether they received a job training from NSWP (the treatment), and finally their employment status (the outcome).\n",
        "\n",
        "JOBS consists of 17 background features (mixture of continuous and binary), a binary treatment, and a binary outcome. It includes 3,212 samples, of which 297/2,915 are treated/control units.\n",
        "\n",
        "The dataset can be accessed [here](https://github.com/dmachlanski/iads-summer-school-causality-2021/tree/main/labs/data). URLs to training and testing parts of the data:\n",
        "- https://github.com/dmachlanski/iads-summer-school-causality-2021/raw/main/labs/data/jobs_train.npz\n",
        "- https://github.com/dmachlanski/iads-summer-school-causality-2021/raw/main/labs/data/jobs_test.npz"
      ]
    },
    {
      "cell_type": "markdown",
      "metadata": {
        "id": "BFCl5pNy27S2"
      },
      "source": [
        "Contrary to previous examples, a different set of evaluation mertics is usually used against JOBS. These are: a) Average Treatment effect on the Treated (ATT), and b) policy risk. They are formally defined as follows.\n",
        "\n",
        "Given a set of treated subjects $T$ that are part of sample $E$ coming from an experimental study, and a set of control group $C$, define ATT as:\n",
        "\n",
        "$$ATT = \\frac{1}{|T|}\\sum \\limits_{i \\in T}\\mathcal{Y}^{(i)} - \\frac{1}{|C \\cap E|}\\sum \\limits_{i \\in C \\cap E}\\mathcal{Y}^{(i)}$$\n",
        "\n",
        "The error on ATT is then defined as the absolute difference between the true and predicted ATT:\n",
        "\n",
        "$$\\epsilon_{ATT} = \\left| ATT - \\frac{1}{|T|}\\sum \\limits_{i \\in T} (\\hat{y}_1^{(i)}-\\hat{y}_0^{(i)}) \\right|$$\n",
        "\n",
        "Policy risk can be defined as:\n",
        "\n",
        "$$\\mathcal{R}_{pol} = 1 - (\\mathbb{E}\\left [ \\mathcal{Y}_1|\\pi(x)=1 \\right ] \\mathcal{P}(\\pi(x)=1) + \\mathbb{E}\\left [ \\mathcal{Y}_0|\\pi(x)=0 \\right ] \\mathcal{P}(\\pi(x)=0)$$\n",
        "\n",
        "Where $\\mathbb{E}[.]$ denotes mathematical expectation and policy $\\pi$ becomes $\\pi(x)=1$ if $\\hat{y}_1 - \\hat{y}_0 > 0$; $\\pi(x)=0$ otherwise.\n",
        "\n",
        "The code provided below computes both $\\epsilon_{ATT}$ and $\\mathcal{R}_{pol}$ given predicted effects. Apart from the background (X), treatment (T) and outcome (Y) covariates, the dataset also contains information whether a unit comes from an experimental study (E), which is required to compute the metrics as well."
      ]
    },
    {
      "cell_type": "code",
      "metadata": {
        "id": "inAxrdv8IY-I"
      },
      "source": [
        "def calc_stats(y, t, e, te_pred):\n",
        "    att = np.mean(y[t > 0]) - np.mean(y[(1 - t + e) > 1])\n",
        "\n",
        "    att_pred = np.mean(te_pred[(t + e) > 1])\n",
        "    bias_att = att_pred - att\n",
        "\n",
        "    policy_value = policy_val(y, t, e, te_pred[e > 0])\n",
        "\n",
        "    eps_att = np.abs(bias_att)\n",
        "    r_pol = 1 - policy_value\n",
        "    return eps_att, r_pol\n",
        "\t\n",
        "def policy_val(y, t, e, te_pred):\n",
        "    t_e = t[e > 0]\n",
        "    y_e = y[e > 0]\n",
        "\n",
        "    if np.any(np.isnan(te_pred)):\n",
        "        return np.nan, np.nan\n",
        "\n",
        "    policy = te_pred > 0.0\n",
        "    treat_overlap = (policy == t_e) * (t_e > 0)\n",
        "    control_overlap = (policy == t_e) * (t_e < 1)\n",
        "\n",
        "    if np.sum(treat_overlap) == 0:\n",
        "        treat_value = 0\n",
        "    else:\n",
        "        treat_value = np.mean(y_e[treat_overlap])\n",
        "\n",
        "    if np.sum(control_overlap) == 0:\n",
        "        control_value = 0\n",
        "    else:\n",
        "        control_value = np.mean(y_e[control_overlap])\n",
        "\n",
        "    pit = np.mean(policy)\n",
        "    policy_value = pit * treat_value + (1 - pit) * control_value\n",
        "\n",
        "    return policy_value"
      ],
      "execution_count": 1,
      "outputs": []
    },
    {
      "cell_type": "code",
      "metadata": {
        "id": "GIke1bfG9fRn"
      },
      "source": [
        "def _trim_axs(axs, N):\n",
        "    axs = axs.flat\n",
        "    for ax in axs[N:]:\n",
        "        ax.remove()\n",
        "    return axs[:N]\n",
        "\n",
        "def plot_dist(data, bins=10):\n",
        "    \"\"\"\n",
        "    data: 2-dimensional numpy array\n",
        "    bins: number of bins in the histograms\n",
        "    \"\"\"\n",
        "    if data.shape[1] > 1:\n",
        "        sq = math.sqrt(data.shape[1])\n",
        "        d_ceil = math.ceil(sq)\n",
        "        d_floor = math.floor(sq)\n",
        "\n",
        "        if (d_ceil * d_floor) >= data.shape[1]:\n",
        "            n_rows = d_floor\n",
        "            n_cols = d_ceil\n",
        "        else:\n",
        "            n_rows = n_cols = d_ceil\n",
        "\n",
        "        _, axs = plt.subplots(n_rows, n_cols, figsize=(12, 12))\n",
        "        axs = _trim_axs(axs, data.shape[1])\n",
        "\n",
        "        for i, ax in enumerate(axs):\n",
        "            ax.hist(data[:, i], bins=bins)\n",
        "    else:\n",
        "        plt.hist(data, bins=bins)\n",
        "    \n",
        "    plt.show()"
      ],
      "execution_count": 2,
      "outputs": []
    },
    {
      "cell_type": "code",
      "metadata": {
        "id": "iq3zwnQl9fPo"
      },
      "source": [
        "from sklearn.ensemble import RandomForestRegressor, RandomForestClassifier, ExtraTreesRegressor\n",
        "from sklearn.linear_model import LinearRegression, LogisticRegression\n",
        "from sklearn.model_selection import train_test_split, GridSearchCV\n",
        "from sklearn.preprocessing import StandardScaler\n",
        "import numpy as np\n",
        "import pandas as pd\n",
        "import scipy.stats as st\n",
        "import matplotlib.pyplot as plt\n",
        "import math"
      ],
      "execution_count": 3,
      "outputs": []
    },
    {
      "cell_type": "code",
      "metadata": {
        "id": "bT9rQQVV9fNH",
        "colab": {
          "base_uri": "https://localhost:8080/"
        },
        "outputId": "77bb2ae9-8787-47c9-987b-cffed2b4f56e"
      },
      "source": [
        "!wget -nc https://github.com/dmachlanski/iads-summer-school-causality-2021/raw/main/labs/data/jobs_train.npz\n",
        "!wget -nc https://github.com/dmachlanski/iads-summer-school-causality-2021/raw/main/labs/data/jobs_test.npz"
      ],
      "execution_count": 4,
      "outputs": [
        {
          "output_type": "stream",
          "text": [
            "--2021-07-29 18:05:10--  https://github.com/dmachlanski/iads-summer-school-causality-2021/raw/main/labs/data/jobs_train.npz\n",
            "Resolving github.com (github.com)... 140.82.112.3\n",
            "Connecting to github.com (github.com)|140.82.112.3|:443... connected.\n",
            "HTTP request sent, awaiting response... 302 Found\n",
            "Location: https://raw.githubusercontent.com/dmachlanski/iads-summer-school-causality-2021/main/labs/data/jobs_train.npz [following]\n",
            "--2021-07-29 18:05:10--  https://raw.githubusercontent.com/dmachlanski/iads-summer-school-causality-2021/main/labs/data/jobs_train.npz\n",
            "Resolving raw.githubusercontent.com (raw.githubusercontent.com)... 185.199.108.133, 185.199.109.133, 185.199.110.133, ...\n",
            "Connecting to raw.githubusercontent.com (raw.githubusercontent.com)|185.199.108.133|:443... connected.\n",
            "HTTP request sent, awaiting response... 200 OK\n",
            "Length: 402807 (393K) [application/octet-stream]\n",
            "Saving to: ‘jobs_train.npz’\n",
            "\n",
            "jobs_train.npz      100%[===================>] 393.37K  --.-KB/s    in 0.04s   \n",
            "\n",
            "2021-07-29 18:05:10 (9.63 MB/s) - ‘jobs_train.npz’ saved [402807/402807]\n",
            "\n",
            "--2021-07-29 18:05:10--  https://github.com/dmachlanski/iads-summer-school-causality-2021/raw/main/labs/data/jobs_test.npz\n",
            "Resolving github.com (github.com)... 140.82.113.3\n",
            "Connecting to github.com (github.com)|140.82.113.3|:443... connected.\n",
            "HTTP request sent, awaiting response... 302 Found\n",
            "Location: https://raw.githubusercontent.com/dmachlanski/iads-summer-school-causality-2021/main/labs/data/jobs_test.npz [following]\n",
            "--2021-07-29 18:05:10--  https://raw.githubusercontent.com/dmachlanski/iads-summer-school-causality-2021/main/labs/data/jobs_test.npz\n",
            "Resolving raw.githubusercontent.com (raw.githubusercontent.com)... 185.199.109.133, 185.199.110.133, 185.199.111.133, ...\n",
            "Connecting to raw.githubusercontent.com (raw.githubusercontent.com)|185.199.109.133|:443... connected.\n",
            "HTTP request sent, awaiting response... 200 OK\n",
            "Length: 45577 (45K) [application/octet-stream]\n",
            "Saving to: ‘jobs_test.npz’\n",
            "\n",
            "jobs_test.npz       100%[===================>]  44.51K  --.-KB/s    in 0.01s   \n",
            "\n",
            "2021-07-29 18:05:11 (4.36 MB/s) - ‘jobs_test.npz’ saved [45577/45577]\n",
            "\n"
          ],
          "name": "stdout"
        }
      ]
    },
    {
      "cell_type": "code",
      "metadata": {
        "id": "-jyQFdvh9fLJ"
      },
      "source": [
        "data_train = np.load('jobs_train.npz')\n",
        "data_test = np.load('jobs_test.npz')"
      ],
      "execution_count": 5,
      "outputs": []
    },
    {
      "cell_type": "code",
      "metadata": {
        "id": "O_e4ztC99t65",
        "colab": {
          "base_uri": "https://localhost:8080/"
        },
        "outputId": "f2e13cf0-107c-41b7-d0f2-fd5438564dac"
      },
      "source": [
        "data_train.files"
      ],
      "execution_count": 6,
      "outputs": [
        {
          "output_type": "execute_result",
          "data": {
            "text/plain": [
              "['x', 't', 'y', 'e']"
            ]
          },
          "metadata": {
            "tags": []
          },
          "execution_count": 6
        }
      ]
    },
    {
      "cell_type": "code",
      "metadata": {
        "id": "6FlScZr29vjh"
      },
      "source": [
        "x_train = data_train['x']\n",
        "t_train = data_train['t']\n",
        "y_train = data_train['y']\n",
        "e_train = data_train['e']"
      ],
      "execution_count": 7,
      "outputs": []
    },
    {
      "cell_type": "code",
      "metadata": {
        "id": "cfeL_giG9zFh"
      },
      "source": [
        "x_test, t_test, y_test, e_test = data_test['x'], data_test['t'], data_test['y'], data_test['e']"
      ],
      "execution_count": 8,
      "outputs": []
    },
    {
      "cell_type": "code",
      "metadata": {
        "id": "8kko-zHE928C",
        "colab": {
          "base_uri": "https://localhost:8080/"
        },
        "outputId": "c89278c9-785b-40a5-86ae-8a16d4543bad"
      },
      "source": [
        "for f in data_train.files:\n",
        "  print(f'{f}: {data_train[f].shape}')"
      ],
      "execution_count": 9,
      "outputs": [
        {
          "output_type": "stream",
          "text": [
            "x: (2891, 17)\n",
            "t: (2891, 1)\n",
            "y: (2891, 1)\n",
            "e: (2891, 1)\n"
          ],
          "name": "stdout"
        }
      ]
    },
    {
      "cell_type": "code",
      "metadata": {
        "id": "S1-G87S_95Mi",
        "colab": {
          "base_uri": "https://localhost:8080/"
        },
        "outputId": "22b5c644-0d81-4732-a239-94f9a11fd30f"
      },
      "source": [
        "for f in data_test.files:\n",
        "  print(f'{f}: {data_test[f].shape}')"
      ],
      "execution_count": 10,
      "outputs": [
        {
          "output_type": "stream",
          "text": [
            "x: (321, 17)\n",
            "t: (321, 1)\n",
            "y: (321, 1)\n",
            "e: (321, 1)\n"
          ],
          "name": "stdout"
        }
      ]
    },
    {
      "cell_type": "code",
      "metadata": {
        "id": "Nj4SdRJe96sT",
        "colab": {
          "base_uri": "https://localhost:8080/",
          "height": 703
        },
        "outputId": "a272c092-2963-4395-bc1b-460b4938664b"
      },
      "source": [
        "xty_train = np.concatenate([x_train, t_train, y_train], axis=1)\n",
        "\n",
        "plot_dist(xty_train)"
      ],
      "execution_count": 11,
      "outputs": [
        {
          "output_type": "display_data",
          "data": {
            "image/png": "[encoded data removed]",
            "text/plain": [
              "<Figure size 864x864 with 19 Axes>"
            ]
          },
          "metadata": {
            "tags": [],
            "needs_background": "light"
          }
        }
      ]
    },
    {
      "cell_type": "code",
      "metadata": {
        "id": "vwTteIHp99za"
      },
      "source": [
        "scaler_x = StandardScaler()\n",
        "\n",
        "x_train = scaler_x.fit_transform(x_train)\n",
        "x_test = scaler_x.transform(x_test)"
      ],
      "execution_count": 20,
      "outputs": []
    },
    {
      "cell_type": "code",
      "metadata": {
        "id": "woxSJuPC-CDr"
      },
      "source": [
        "et = RandomForestRegressor()\n",
        "#et = ExtraTreesRegressor()\n",
        "#et = LogisticRegression()\n",
        "#et = LinearRegression()\n",
        "\n",
        "xt_train = np.concatenate([x_train, t_train], axis=1)\n",
        "et.fit(xt_train, y_train.flatten())\n",
        "\n",
        "et_y0 = et.predict(np.concatenate([x_test, np.zeros_like(t_test)], axis=1))\n",
        "et_y1 = et.predict(np.concatenate([x_test, np.ones_like(t_test)], axis=1))\n",
        "\n",
        "et_te = et_y1 - et_y0"
      ],
      "execution_count": 57,
      "outputs": []
    },
    {
      "cell_type": "code",
      "metadata": {
        "id": "-PbwmO0GAEy4",
        "colab": {
          "base_uri": "https://localhost:8080/"
        },
        "outputId": "af49ae83-7c16-4cb8-cc11-d5a259165131"
      },
      "source": [
        "et_te.shape"
      ],
      "execution_count": 58,
      "outputs": [
        {
          "output_type": "execute_result",
          "data": {
            "text/plain": [
              "(321,)"
            ]
          },
          "metadata": {
            "tags": []
          },
          "execution_count": 58
        }
      ]
    },
    {
      "cell_type": "code",
      "metadata": {
        "id": "MHxXU8ut-TqR"
      },
      "source": [
        "#def calc_stats(y, t, e, te_pred):\n",
        "att_e, r_pol = calc_stats(y_test, t_test, e_test, et_te.reshape(-1, 1))"
      ],
      "execution_count": 59,
      "outputs": []
    },
    {
      "cell_type": "code",
      "metadata": {
        "id": "tKKYFcqM-kF5",
        "colab": {
          "base_uri": "https://localhost:8080/"
        },
        "outputId": "55428629-3b2a-490d-d726-1de00050a935"
      },
      "source": [
        "print(att_e, r_pol)"
      ],
      "execution_count": 60,
      "outputs": [
        {
          "output_type": "stream",
          "text": [
            "0.007689807512804972 0.3192307692307692\n"
          ],
          "name": "stdout"
        }
      ]
    },
    {
      "cell_type": "code",
      "metadata": {
        "id": "qjWTU4k3-slb"
      },
      "source": [
        ""
      ],
      "execution_count": 16,
      "outputs": []
    }
  ]
}