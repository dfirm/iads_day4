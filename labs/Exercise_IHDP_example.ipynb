{
  "nbformat": 4,
  "nbformat_minor": 0,
  "metadata": {
    "colab": {
      "name": "Exercise IHDP.ipynb",
      "provenance": [],
      "collapsed_sections": [],
      "include_colab_link": true
    },
    "kernelspec": {
      "name": "python3",
      "display_name": "Python 3"
    },
    "language_info": {
      "name": "python"
    }
  },
  "cells": [
    {
      "cell_type": "markdown",
      "metadata": {
        "id": "view-in-github",
        "colab_type": "text"
      },
      "source": [
        "<a href=\"https://colab.research.google.com/github/dfirm/iads_day4/blob/main/labs/Exercise_IHDP_example.ipynb\" target=\"_parent\"><img src=\"https://colab.research.google.com/assets/colab-badge.svg\" alt=\"Open In Colab\"/></a>"
      ]
    },
    {
      "cell_type": "markdown",
      "metadata": {
        "id": "wBoPcfD9l9V8"
      },
      "source": [
        "# Causal Inference - Exercise (IHDP)\n",
        "\n",
        "This is an opportunity for everyone to put into practice everything we have learnt so far. The data for this exercise comes from Infant Health Development Program study and was modified specifically for causal inference estimation purposes. More precisely, this dataset was formally introduced by [Hill (2011)](https://doi.org/10.1198/jcgs.2010.08162). It is a commonly used semi-simulated dataset in the CI community that combines pre-treatment covariates (X) and treatment assignments (T) from a real study, and simulated outcomes (Y). Because all outcomes are generated (both $y_1$ and $y_0$), we can measure individual as well as average treatment effect errors. For training purposes, only one of the outcomes is available to the estimator. The other is hidden and used only for evaluation purposes.\n",
        "\n",
        "The experiment where the covariates come from measured various aspects of premature infants and their mothers, and how receiving specialised childcare affected the cognitive test score of the infants later on. The treatment groups are made imbalanced by removing a subset of the treated individuals. The variables are a mixture of contonuous and binary features. Treatment is binary. The outcome Y is continuous. Overall, we have 25 background features X. The data consists of 747 samples (139 treated, 608 control)."
      ]
    },
    {
      "cell_type": "markdown",
      "metadata": {
        "id": "AcflqEHyquI_"
      },
      "source": [
        "In terms of evaluation metrics, we are interested in predicting both individual and average treatment effects for this task. As the outcomes are simulated, we have access to both true outcomes $\\mathcal{Y}_1$ and $\\mathcal{Y}_0$ for each individual (i). As a result, we have access to true ITEs and true ATE:\n",
        "\n",
        "$$ITE^{(i)} = \\mathcal{Y}_1^{(i)} - \\mathcal{Y}_0^{(i)}$$\n",
        "\n",
        "$$ATE = \\mathbb{E}[ITE]$$\n",
        "\n",
        "We can define our predictions as:\n",
        "\n",
        "$$\\widehat{ITE}^{(i)} = \\hat{y}_1^{(i)} - \\hat{y}_0^{(i)}$$\n",
        "\n",
        "$$\\widehat{ATE} = \\frac{1}{n}\\sum \\limits_{i=1}^{n}\\widehat{ITE}^{(i)}$$\n",
        "\n",
        "This allows us to define measurement errors with respect to each as:\n",
        "\n",
        "$$\\epsilon_{PEHE} = \\sqrt{\\frac{1}{n}\\sum \\limits_{i=1}^{n}(\\widehat{ITE}^{(i)} - ITE^{(i)})^2}$$\n",
        "\n",
        "$$\\epsilon_{ATE} = \\left| \\widehat{ATE} - ATE \\right|$$\n",
        "\n",
        "Where PEHE stands for Precision in Estimation of Heterogeneous Effect, and which essentially is a Root Mean Squared Error (RMSE) between predicted and true ITEs. Implementations of both metrics are provided below."
      ]
    },
    {
      "cell_type": "code",
      "metadata": {
        "id": "ao4shEd7IRNb"
      },
      "source": [
        "def rmse(a, b):\n",
        "    return np.sqrt(((a - b)**2).mean())\n",
        "\n",
        "def ate_error(pred_te, true_te):\n",
        "  return np.abs(np.mean(pred_te) - np.mean(true_te))\n",
        "\n",
        "def pehe_error(pred_te, true_te):\n",
        "  return rmse(true_te, pred_te)"
      ],
      "execution_count": null,
      "outputs": []
    },
    {
      "cell_type": "markdown",
      "metadata": {
        "id": "K-3Z9QlR1tdA"
      },
      "source": [
        "We suggest the following steps:\n",
        "1. Import packages.\n",
        "    1. Remember to install EconML if you want to use it.\n",
        "2. Data.\n",
        "    1. Can be accessed at the following URLs:\n",
        "        1. Training: https://github.com/dmachlanski/iads-summer-school-causality-2021/raw/main/labs/data/ihdp_train.npz\n",
        "        2. Testing: https://github.com/dmachlanski/iads-summer-school-causality-2021/raw/main/labs/data/ihdp_test.npz\n",
        "    2. Use 'wget' command to download them into the notebook (or upload manually).\n",
        "    3. Explore the data (print a few samples, plot distributions - see plot_dist function below).\n",
        "3. Data pre-processing.\n",
        "    1. No data splitting required (train and test already provided).\n",
        "    2. Scaling.\n",
        "4. Train estimators of your choice (re-use already presented ones or explore different methods.\n",
        "  1. EconML - [CATE estimators](https://econml.azurewebsites.net/reference.html#cate-estimators).\n",
        "  2. scikit-learn - [supervised methods](https://scikit-learn.org/stable/supervised_learning.html#supervised-learning).\n",
        "5. Make predictions.\n",
        "6. Evaluate your models.\n",
        "    1. Measure ATE and PEHE errors."
      ]
    },
    {
      "cell_type": "code",
      "metadata": {
        "id": "kcy1W32ix3o8"
      },
      "source": [
        "def _trim_axs(axs, N):\n",
        "    axs = axs.flat\n",
        "    for ax in axs[N:]:\n",
        "        ax.remove()\n",
        "    return axs[:N]\n",
        "\n",
        "def plot_dist(data, bins=10):\n",
        "    \"\"\"\n",
        "    data: 2-dimensional numpy array\n",
        "    bins: number of bins in the histograms\n",
        "    \"\"\"\n",
        "    if data.shape[1] > 1:\n",
        "        sq = math.sqrt(data.shape[1])\n",
        "        d_ceil = math.ceil(sq)\n",
        "        d_floor = math.floor(sq)\n",
        "\n",
        "        if (d_ceil * d_floor) >= data.shape[1]:\n",
        "            n_rows = d_floor\n",
        "            n_cols = d_ceil\n",
        "        else:\n",
        "            n_rows = n_cols = d_ceil\n",
        "\n",
        "        _, axs = plt.subplots(n_rows, n_cols, figsize=(12, 12))\n",
        "        axs = _trim_axs(axs, data.shape[1])\n",
        "\n",
        "        for i, ax in enumerate(axs):\n",
        "            ax.hist(data[:, i], bins=bins)\n",
        "    else:\n",
        "        plt.hist(data, bins=bins)\n",
        "    \n",
        "    plt.show()"
      ],
      "execution_count": null,
      "outputs": []
    },
    {
      "cell_type": "code",
      "metadata": {
        "colab": {
          "base_uri": "https://localhost:8080/"
        },
        "id": "L9YvoessqO8j",
        "outputId": "9fee76a0-a7fb-47aa-db19-19e5eca19b9d"
      },
      "source": [
        "!pip install econml"
      ],
      "execution_count": null,
      "outputs": [
        {
          "output_type": "stream",
          "text": [
            "Collecting econml\n",
            "  Downloading econml-0.11.1-cp37-cp37m-manylinux2010_x86_64.whl (3.0 MB)\n",
            "\u001b[K     |████████████████████████████████| 3.0 MB 8.9 MB/s \n",
            "\u001b[?25hRequirement already satisfied: scipy>1.4.0 in /usr/local/lib/python3.7/dist-packages (from econml) (1.4.1)\n",
            "Requirement already satisfied: numba!=0.42.1 in /usr/local/lib/python3.7/dist-packages (from econml) (0.51.2)\n",
            "Requirement already satisfied: graphviz in /usr/local/lib/python3.7/dist-packages (from econml) (0.10.1)\n",
            "Requirement already satisfied: lightgbm in /usr/local/lib/python3.7/dist-packages (from econml) (2.2.3)\n",
            "Collecting shap~=0.38.1\n",
            "  Downloading shap-0.38.1.tar.gz (352 kB)\n",
            "\u001b[K     |████████████████████████████████| 352 kB 52.7 MB/s \n",
            "\u001b[?25hCollecting dowhy\n",
            "  Downloading dowhy-0.6-py3-none-any.whl (123 kB)\n",
            "\u001b[K     |████████████████████████████████| 123 kB 62.9 MB/s \n",
            "\u001b[?25hRequirement already satisfied: statsmodels>=0.10 in /usr/local/lib/python3.7/dist-packages (from econml) (0.10.2)\n",
            "Requirement already satisfied: scikit-learn>0.22.0 in /usr/local/lib/python3.7/dist-packages (from econml) (0.22.2.post1)\n",
            "Requirement already satisfied: joblib>=0.13.0 in /usr/local/lib/python3.7/dist-packages (from econml) (1.0.1)\n",
            "Requirement already satisfied: pandas in /usr/local/lib/python3.7/dist-packages (from econml) (1.1.5)\n",
            "Collecting sparse\n",
            "  Downloading sparse-0.12.0-py2.py3-none-any.whl (76 kB)\n",
            "\u001b[K     |████████████████████████████████| 76 kB 5.0 MB/s \n",
            "\u001b[?25hRequirement already satisfied: numpy in /usr/local/lib/python3.7/dist-packages (from econml) (1.19.5)\n",
            "Requirement already satisfied: llvmlite<0.35,>=0.34.0.dev0 in /usr/local/lib/python3.7/dist-packages (from numba!=0.42.1->econml) (0.34.0)\n",
            "Requirement already satisfied: setuptools in /usr/local/lib/python3.7/dist-packages (from numba!=0.42.1->econml) (57.2.0)\n",
            "Requirement already satisfied: tqdm>4.25.0 in /usr/local/lib/python3.7/dist-packages (from shap~=0.38.1->econml) (4.41.1)\n",
            "Collecting slicer==0.0.7\n",
            "  Downloading slicer-0.0.7-py3-none-any.whl (14 kB)\n",
            "Requirement already satisfied: cloudpickle in /usr/local/lib/python3.7/dist-packages (from shap~=0.38.1->econml) (1.3.0)\n",
            "Requirement already satisfied: patsy>=0.4.0 in /usr/local/lib/python3.7/dist-packages (from statsmodels>=0.10->econml) (0.5.1)\n",
            "Requirement already satisfied: pytz>=2017.2 in /usr/local/lib/python3.7/dist-packages (from pandas->econml) (2018.9)\n",
            "Requirement already satisfied: python-dateutil>=2.7.3 in /usr/local/lib/python3.7/dist-packages (from pandas->econml) (2.8.1)\n",
            "Requirement already satisfied: six in /usr/local/lib/python3.7/dist-packages (from patsy>=0.4.0->statsmodels>=0.10->econml) (1.15.0)\n",
            "Requirement already satisfied: sympy>=1.4 in /usr/local/lib/python3.7/dist-packages (from dowhy->econml) (1.7.1)\n",
            "Requirement already satisfied: networkx>=2.0 in /usr/local/lib/python3.7/dist-packages (from dowhy->econml) (2.5.1)\n",
            "Collecting pydot>=1.4\n",
            "  Downloading pydot-1.4.2-py2.py3-none-any.whl (21 kB)\n",
            "Requirement already satisfied: decorator<5,>=4.3 in /usr/local/lib/python3.7/dist-packages (from networkx>=2.0->dowhy->econml) (4.4.2)\n",
            "Requirement already satisfied: pyparsing>=2.1.4 in /usr/local/lib/python3.7/dist-packages (from pydot>=1.4->dowhy->econml) (2.4.7)\n",
            "Requirement already satisfied: mpmath>=0.19 in /usr/local/lib/python3.7/dist-packages (from sympy>=1.4->dowhy->econml) (1.2.1)\n",
            "Building wheels for collected packages: shap\n",
            "  Building wheel for shap (setup.py) ... \u001b[?25l\u001b[?25hdone\n",
            "  Created wheel for shap: filename=shap-0.38.1-cp37-cp37m-linux_x86_64.whl size=490520 sha256=3dd1ae94cd921da341cf97240ce294bbda5dd31634ba9752b4cb99df5fd8d9e3\n",
            "  Stored in directory: /root/.cache/pip/wheels/34/33/98/2c03c2e06312e616f7a8dad3fbbcc78fc9eb1d665abcef1060\n",
            "Successfully built shap\n",
            "Installing collected packages: slicer, pydot, sparse, shap, dowhy, econml\n",
            "  Attempting uninstall: pydot\n",
            "    Found existing installation: pydot 1.3.0\n",
            "    Uninstalling pydot-1.3.0:\n",
            "      Successfully uninstalled pydot-1.3.0\n",
            "Successfully installed dowhy-0.6 econml-0.11.1 pydot-1.4.2 shap-0.38.1 slicer-0.0.7 sparse-0.12.0\n"
          ],
          "name": "stdout"
        }
      ]
    },
    {
      "cell_type": "code",
      "metadata": {
        "id": "o5ErnXyrqPkB"
      },
      "source": [
        "from econml.metalearners import XLearner\n",
        "from econml.grf import CausalForest\n",
        "from sklearn.ensemble import RandomForestRegressor, RandomForestClassifier\n",
        "from sklearn.linear_model import LinearRegression, LogisticRegression\n",
        "from sklearn.model_selection import train_test_split, GridSearchCV\n",
        "from sklearn.preprocessing import StandardScaler\n",
        "import numpy as np\n",
        "import pandas as pd\n",
        "import scipy.stats as st\n",
        "import matplotlib.pyplot as plt\n",
        "import math"
      ],
      "execution_count": null,
      "outputs": []
    },
    {
      "cell_type": "code",
      "metadata": {
        "colab": {
          "base_uri": "https://localhost:8080/"
        },
        "id": "2H2hUwDiqWwd",
        "outputId": "97daf701-b721-4d41-e240-d6175c32fcdf"
      },
      "source": [
        "!wget https://github.com/dmachlanski/iads-summer-school-causality-2021/raw/main/labs/data/ihdp_train.npz\n",
        "!wget https://github.com/dmachlanski/iads-summer-school-causality-2021/raw/main/labs/data/ihdp_test.npz"
      ],
      "execution_count": null,
      "outputs": [
        {
          "output_type": "stream",
          "text": [
            "--2021-07-29 14:27:34--  https://github.com/dmachlanski/iads-summer-school-causality-2021/raw/main/labs/data/ihdp_train.npz\n",
            "Resolving github.com (github.com)... 192.30.255.112\n",
            "Connecting to github.com (github.com)|192.30.255.112|:443... connected.\n",
            "HTTP request sent, awaiting response... 302 Found\n",
            "Location: https://raw.githubusercontent.com/dmachlanski/iads-summer-school-causality-2021/main/labs/data/ihdp_train.npz [following]\n",
            "--2021-07-29 14:27:35--  https://raw.githubusercontent.com/dmachlanski/iads-summer-school-causality-2021/main/labs/data/ihdp_train.npz\n",
            "Resolving raw.githubusercontent.com (raw.githubusercontent.com)... 185.199.108.133, 185.199.109.133, 185.199.110.133, ...\n",
            "Connecting to raw.githubusercontent.com (raw.githubusercontent.com)|185.199.108.133|:443... connected.\n",
            "HTTP request sent, awaiting response... 200 OK\n",
            "Length: 151488 (148K) [application/octet-stream]\n",
            "Saving to: ‘ihdp_train.npz’\n",
            "\n",
            "ihdp_train.npz      100%[===================>] 147.94K  --.-KB/s    in 0.01s   \n",
            "\n",
            "2021-07-29 14:27:35 (11.0 MB/s) - ‘ihdp_train.npz’ saved [151488/151488]\n",
            "\n",
            "--2021-07-29 14:27:35--  https://github.com/dmachlanski/iads-summer-school-causality-2021/raw/main/labs/data/ihdp_test.npz\n",
            "Resolving github.com (github.com)... 192.30.255.113\n",
            "Connecting to github.com (github.com)|192.30.255.113|:443... connected.\n",
            "HTTP request sent, awaiting response... 302 Found\n",
            "Location: https://raw.githubusercontent.com/dmachlanski/iads-summer-school-causality-2021/main/labs/data/ihdp_test.npz [following]\n",
            "--2021-07-29 14:27:35--  https://raw.githubusercontent.com/dmachlanski/iads-summer-school-causality-2021/main/labs/data/ihdp_test.npz\n",
            "Resolving raw.githubusercontent.com (raw.githubusercontent.com)... 185.199.111.133, 185.199.109.133, 185.199.110.133, ...\n",
            "Connecting to raw.githubusercontent.com (raw.githubusercontent.com)|185.199.111.133|:443... connected.\n",
            "HTTP request sent, awaiting response... 200 OK\n",
            "Length: 17760 (17K) [application/octet-stream]\n",
            "Saving to: ‘ihdp_test.npz’\n",
            "\n",
            "ihdp_test.npz       100%[===================>]  17.34K  --.-KB/s    in 0s      \n",
            "\n",
            "2021-07-29 14:27:35 (53.3 MB/s) - ‘ihdp_test.npz’ saved [17760/17760]\n",
            "\n"
          ],
          "name": "stdout"
        }
      ]
    },
    {
      "cell_type": "code",
      "metadata": {
        "id": "OILbm2koqWnX"
      },
      "source": [
        "data_train = np.load('ihdp_train.npz')\n",
        "data_test = np.load('ihdp_test.npz')"
      ],
      "execution_count": null,
      "outputs": []
    },
    {
      "cell_type": "code",
      "metadata": {
        "colab": {
          "base_uri": "https://localhost:8080/"
        },
        "id": "MPzqZAssqWa3",
        "outputId": "b5a234e5-0948-4f62-cb70-9220de8a96e2"
      },
      "source": [
        "data_train.files"
      ],
      "execution_count": null,
      "outputs": [
        {
          "output_type": "execute_result",
          "data": {
            "text/plain": [
              "['x', 't', 'y', 'te']"
            ]
          },
          "metadata": {
            "tags": []
          },
          "execution_count": 7
        }
      ]
    },
    {
      "cell_type": "code",
      "metadata": {
        "colab": {
          "base_uri": "https://localhost:8080/"
        },
        "id": "VAmfJ4eKqpN7",
        "outputId": "5ed4ece5-5492-4b9b-e64d-af76064bb40f"
      },
      "source": [
        "data_test.files"
      ],
      "execution_count": null,
      "outputs": [
        {
          "output_type": "execute_result",
          "data": {
            "text/plain": [
              "['x', 't', 'y', 'te']"
            ]
          },
          "metadata": {
            "tags": []
          },
          "execution_count": 8
        }
      ]
    },
    {
      "cell_type": "code",
      "metadata": {
        "id": "YkXyPsToqq3x"
      },
      "source": [
        "x_train = data_train['x']\n",
        "t_train = data_train['t']\n",
        "y_train = data_train['y']\n",
        "te_train = data_train['te']"
      ],
      "execution_count": null,
      "outputs": []
    },
    {
      "cell_type": "code",
      "metadata": {
        "id": "hZ9dZlnNuccL"
      },
      "source": [
        "x_test, t_test, y_test, te_test = data_test['x'], data_test['t'], data_test['y'], data_test['te']"
      ],
      "execution_count": null,
      "outputs": []
    },
    {
      "cell_type": "code",
      "metadata": {
        "colab": {
          "base_uri": "https://localhost:8080/"
        },
        "id": "XqhhHhBxsENG",
        "outputId": "e6fa0ed0-b748-4acf-db88-225276eb200c"
      },
      "source": [
        "for f in data_train.files:\n",
        "  print(f'{f}: {data_train[f].shape}')"
      ],
      "execution_count": null,
      "outputs": [
        {
          "output_type": "stream",
          "text": [
            "x: (672, 25)\n",
            "t: (672, 1)\n",
            "y: (672, 1)\n",
            "te: (672, 1)\n"
          ],
          "name": "stdout"
        }
      ]
    },
    {
      "cell_type": "code",
      "metadata": {
        "colab": {
          "base_uri": "https://localhost:8080/"
        },
        "id": "04Jn7lykuo_e",
        "outputId": "1dbcc7dd-8331-4586-b89b-8b4700c7cee4"
      },
      "source": [
        "for f in data_test.files:\n",
        "  print(f'{f}: {data_test[f].shape}')"
      ],
      "execution_count": null,
      "outputs": [
        {
          "output_type": "stream",
          "text": [
            "x: (75, 25)\n",
            "t: (75, 1)\n",
            "y: (75, 1)\n",
            "te: (75, 1)\n"
          ],
          "name": "stdout"
        }
      ]
    },
    {
      "cell_type": "code",
      "metadata": {
        "colab": {
          "base_uri": "https://localhost:8080/",
          "height": 700
        },
        "id": "-XpdeMSnqtsW",
        "outputId": "a93a5f86-7696-411d-87ae-fc302b90f17c"
      },
      "source": [
        "xty_train = np.concatenate([x_train, t_train, y_train], axis=1)\n",
        "\n",
        "#np.vstack\n",
        "#np.hstack\n",
        "\n",
        "plot_dist(xty_train)"
      ],
      "execution_count": null,
      "outputs": [
        {
          "output_type": "display_data",
          "data": {
            "image/png": "[encoded data removed]",
            "text/plain": [
              "<Figure size 864x864 with 27 Axes>"
            ]
          },
          "metadata": {
            "tags": [],
            "needs_background": "light"
          }
        }
      ]
    },
    {
      "cell_type": "code",
      "metadata": {
        "id": "-TqLX0AhrKTD"
      },
      "source": [
        "scaler_x = StandardScaler()\n",
        "\n",
        "x_train = scaler_x.fit_transform(x_train)\n",
        "x_test = scaler_x.transform(x_test)"
      ],
      "execution_count": null,
      "outputs": []
    },
    {
      "cell_type": "code",
      "metadata": {
        "id": "R9whtW1EwDn6"
      },
      "source": [
        "lr = LinearRegression()\n",
        "\n",
        "xt_train = np.concatenate([x_train, t_train], axis=1)\n",
        "lr.fit(xt_train, y_train.flatten())\n",
        "\n",
        "lr_y0 = lr.predict(np.concatenate([x_test, np.zeros_like(t_test)], axis=1))\n",
        "lr_y1 = lr.predict(np.concatenate([x_test, np.ones_like(t_test)], axis=1))\n",
        "\n",
        "lr_te = lr_y1 - lr_y0"
      ],
      "execution_count": null,
      "outputs": []
    },
    {
      "cell_type": "code",
      "metadata": {
        "id": "tYDW7zQowtfR"
      },
      "source": [
        "def get_ps_weights(clf, x, t):\n",
        "  ti = np.squeeze(t)\n",
        "  clf.fit(x, ti)\n",
        "  \n",
        "  # n_samples, n_classes\n",
        "  #ps = clf.predict_proba(x)\n",
        "\n",
        "  # n_classes, n_samples\n",
        "  #ps_t = ps.T\n",
        "\n",
        "  # 0\n",
        "  # 1\n",
        "  # 1, n_samples\n",
        "  #ps_t1 = ps_t[1]\n",
        "\n",
        "  # n_samples, 1\n",
        "  #ps_t1.T\n",
        "  \n",
        "  ptx = clf.predict_proba(x).T[1].T + 0.0001\n",
        "  return ti / ptx + ((1.0 - ti) / (1.0 - ptx))"
      ],
      "execution_count": null,
      "outputs": []
    },
    {
      "cell_type": "code",
      "metadata": {
        "id": "YzbTnoa-wwbJ"
      },
      "source": [
        "lr_clf = LogisticRegression()\n",
        "weights = get_ps_weights(lr_clf, x_train, t_train)\n",
        "\n",
        "lr_ipw = LinearRegression()\n",
        "\n",
        "xt_train = np.concatenate([x_train, t_train], axis=1)\n",
        "lr_ipw.fit(xt_train, y_train.flatten(), sample_weight=weights)\n",
        "\n",
        "lr_ipw_y0 = lr_ipw.predict(np.concatenate([x_test, np.zeros_like(t_test)], axis=1))\n",
        "lr_ipw_y1 = lr_ipw.predict(np.concatenate([x_test, np.ones_like(t_test)], axis=1))\n",
        "\n",
        "lr_ipw_te = lr_ipw_y1 - lr_ipw_y0"
      ],
      "execution_count": null,
      "outputs": []
    },
    {
      "cell_type": "code",
      "metadata": {
        "id": "806eU2Gkxas0"
      },
      "source": [
        "cf = CausalForest()\n",
        "\n",
        "cf.fit(x_train, t_train, y_train)\n",
        "\n",
        "cf_te = cf.predict(x_test)"
      ],
      "execution_count": null,
      "outputs": []
    },
    {
      "cell_type": "code",
      "metadata": {
        "id": "iOdJOq7p0-ZK"
      },
      "source": [
        "#def ate_error(pred_te, true_te):\n",
        "#def pehe_error(pred_te, true_te):"
      ],
      "execution_count": null,
      "outputs": []
    },
    {
      "cell_type": "code",
      "metadata": {
        "id": "uW-mUmmz21bh"
      },
      "source": [
        "lr_ate_e = ate_error(lr_te, te_test)\n",
        "lr_pehe_e = pehe_error(lr_te, te_test)\n",
        "\n",
        "lr_ipw_ate_e = ate_error(lr_ipw_te, te_test)\n",
        "lr_ipw_pehe_e = pehe_error(lr_ipw_te, te_test)\n",
        "\n",
        "cf_ate_e = ate_error(cf_te, te_test)\n",
        "cf_pehe_e = pehe_error(cf_te, te_test)"
      ],
      "execution_count": null,
      "outputs": []
    },
    {
      "cell_type": "code",
      "metadata": {
        "colab": {
          "base_uri": "https://localhost:8080/",
          "height": 142
        },
        "id": "mIl9igge3YVz",
        "outputId": "61096ef6-7ce7-4c3e-b3cc-4240c62c4116"
      },
      "source": [
        "results = []\n",
        "results.append(['LR', lr_ate_e, lr_pehe_e])\n",
        "results.append(['LR (IPW)', lr_ipw_ate_e, lr_ipw_pehe_e])\n",
        "results.append(['CF', cf_ate_e, cf_pehe_e])\n",
        "\n",
        "cols = ['Method', 'ATE', 'PEHE']\n",
        "\n",
        "df = pd.DataFrame(results, columns=cols)\n",
        "df"
      ],
      "execution_count": null,
      "outputs": [
        {
          "output_type": "execute_result",
          "data": {
            "text/html": [
              "<div>\n",
              "<style scoped>\n",
              "    .dataframe tbody tr th:only-of-type {\n",
              "        vertical-align: middle;\n",
              "    }\n",
              "\n",
              "    .dataframe tbody tr th {\n",
              "        vertical-align: top;\n",
              "    }\n",
              "\n",
              "    .dataframe thead th {\n",
              "        text-align: right;\n",
              "    }\n",
              "</style>\n",
              "<table border=\"1\" class=\"dataframe\">\n",
              "  <thead>\n",
              "    <tr style=\"text-align: right;\">\n",
              "      <th></th>\n",
              "      <th>Method</th>\n",
              "      <th>ATE</th>\n",
              "      <th>PEHE</th>\n",
              "    </tr>\n",
              "  </thead>\n",
              "  <tbody>\n",
              "    <tr>\n",
              "      <th>0</th>\n",
              "      <td>LR</td>\n",
              "      <td>0.100136</td>\n",
              "      <td>0.966722</td>\n",
              "    </tr>\n",
              "    <tr>\n",
              "      <th>1</th>\n",
              "      <td>LR (IPW)</td>\n",
              "      <td>0.063431</td>\n",
              "      <td>0.963612</td>\n",
              "    </tr>\n",
              "    <tr>\n",
              "      <th>2</th>\n",
              "      <td>CF</td>\n",
              "      <td>0.040810</td>\n",
              "      <td>0.420884</td>\n",
              "    </tr>\n",
              "  </tbody>\n",
              "</table>\n",
              "</div>"
            ],
            "text/plain": [
              "     Method       ATE      PEHE\n",
              "0        LR  0.100136  0.966722\n",
              "1  LR (IPW)  0.063431  0.963612\n",
              "2        CF  0.040810  0.420884"
            ]
          },
          "metadata": {
            "tags": []
          },
          "execution_count": 40
        }
      ]
    },
    {
      "cell_type": "code",
      "metadata": {
        "id": "neKkNYxs3qap"
      },
      "source": [
        ""
      ],
      "execution_count": null,
      "outputs": []
    }
  ]
}